{
 "cells": [
  {
   "cell_type": "code",
   "execution_count": 1,
   "metadata": {},
   "outputs": [],
   "source": [
    "import pandas as pd\n",
    "from selenium import webdriver\n",
    "from selenium.webdriver.common.keys import Keys\n",
    "from selenium.webdriver.common.by import By\n",
    "from selenium.webdriver.support.ui import WebDriverWait\n",
    "from selenium.webdriver.support.ui import Select\n",
    "from selenium.webdriver.support import expected_conditions as EC\n",
    "from selenium.webdriver.common.alert import Alert\n",
    "from bs4 import BeautifulSoup\n",
    "import requests, lxml\n",
    "from re import search\n",
    "from collections import Counter\n",
    "import numpy as np\n",
    "import threading \n",
    "import queue\n",
    "import time"
   ]
  },
  {
   "cell_type": "code",
   "execution_count": 2,
   "metadata": {},
   "outputs": [],
   "source": [
    "def get_driver():\n",
    "    options = webdriver.FirefoxOptions()\n",
    "    options.add_argument('-headless')\n",
    "    options.add_argument('-no-sandbox')\n",
    "    options.add_argument('-disable-dev-shm-usage')\n",
    "    options.add_argument('--disable-application-cache')\n",
    "    driver = webdriver.Firefox(options = options)\n",
    "    return driver"
   ]
  },
  {
   "cell_type": "code",
   "execution_count": 4,
   "metadata": {},
   "outputs": [],
   "source": [
    "def get_contractor(driver, taxid):\n",
    "    url = 'https://dauthau.asia/businesslistings/search/?q=' + taxid + '&industry1=&province=0&businesstype=0&lvkd=0'\n",
    "    driver.get(url)\n",
    "    html_source = driver.page_source\n",
    "    soup = BeautifulSoup(html_source, 'lxml')\n",
    "    link = soup.find('div', class_= 'listing-summary').a['href']\n",
    "    driver.get('https://dauthau.asia' + link)\n",
    "    html_source = driver.page_source\n",
    "    soup = BeautifulSoup(html_source, 'html.parser')\n",
    "    table = soup.find(\"table\")\n",
    "    df = pd.read_html(str(table), converters={'Mã số thuế': str, 'Điện thoại công ty': str})[0]\n",
    "    df = df.transpose()\n",
    "    df.columns = df.iloc[0]\n",
    "    df = df.iloc[1:2]\n",
    "    df = df.iloc[:,:17]\n",
    "    driver.delete_all_cookies()\n",
    "    time.sleep(2)\n",
    "    return df\n"
   ]
  },
  {
   "cell_type": "code",
   "execution_count": 5,
   "metadata": {},
   "outputs": [],
   "source": [
    "def get_contractor_list_driver(driver, tax_id_lst):\n",
    "    df = get_contractor(driver, tax_id_lst[0])\n",
    "    for i in tax_id_lst:\n",
    "        if i != tax_id_lst[0]:\n",
    "            try:\n",
    "                df = pd.concat([df,get_contractor(driver, i)])\n",
    "            except:\n",
    "                continue\n",
    "        else:\n",
    "            pass\n",
    "    return df"
   ]
  },
  {
   "cell_type": "code",
   "execution_count": 6,
   "metadata": {},
   "outputs": [],
   "source": [
    "def get_contractor_list(tax_id_lst):\n",
    "    driver = get_driver()\n",
    "    df = get_contractor_list_driver(driver, tax_id_lst)\n",
    "    driver.close()\n",
    "    return df"
   ]
  },
  {
   "cell_type": "code",
   "execution_count": 6,
   "metadata": {},
   "outputs": [],
   "source": [
    "# input_file = pd.read_excel(\"/home/dangpdh/Downloads/dauthau.xlsx\", dtype = 'str')"
   ]
  },
  {
   "cell_type": "code",
   "execution_count": 7,
   "metadata": {},
   "outputs": [],
   "source": [
    "import psycopg2"
   ]
  },
  {
   "cell_type": "code",
   "execution_count": 8,
   "metadata": {},
   "outputs": [],
   "source": [
    "conn = psycopg2.connect(host=\"localhost\",database=\"postgres\", user=\"postgres\", password=\"dang1199\")"
   ]
  },
  {
   "cell_type": "code",
   "execution_count": 9,
   "metadata": {},
   "outputs": [],
   "source": [
    "sql = \"\"\"select distinct \"Mã số thuế\" from kq_dauthau_202208 kd \n",
    "        where \"Mã số thuế\" not in (select \"TAX_ID\" from contractor_info ci)\"\"\""
   ]
  },
  {
   "cell_type": "code",
   "execution_count": 10,
   "metadata": {},
   "outputs": [
    {
     "name": "stderr",
     "output_type": "stream",
     "text": [
      "/home/dangpdh/anaconda3/lib/python3.9/site-packages/pandas/io/sql.py:761: UserWarning: pandas only support SQLAlchemy connectable(engine/connection) ordatabase string URI or sqlite3 DBAPI2 connectionother DBAPI2 objects are not tested, please consider using SQLAlchemy\n",
      "  warnings.warn(\n"
     ]
    }
   ],
   "source": [
    "input_file = pd.read_sql(sql, conn)"
   ]
  },
  {
   "cell_type": "code",
   "execution_count": 11,
   "metadata": {},
   "outputs": [],
   "source": [
    "input_file = input_file.loc[input_file[\"Mã số thuế\"].str.len() >= 10]"
   ]
  },
  {
   "cell_type": "code",
   "execution_count": 12,
   "metadata": {},
   "outputs": [],
   "source": [
    "u_lst = list(set(input_file[\"Mã số thuế\"].tolist()))"
   ]
  },
  {
   "cell_type": "code",
   "execution_count": 13,
   "metadata": {},
   "outputs": [
    {
     "data": {
      "text/plain": [
       "748"
      ]
     },
     "execution_count": 13,
     "metadata": {},
     "output_type": "execute_result"
    }
   ],
   "source": [
    "len(u_lst)"
   ]
  },
  {
   "cell_type": "code",
   "execution_count": 14,
   "metadata": {
    "scrolled": true
   },
   "outputs": [
    {
     "name": "stdout",
     "output_type": "stream",
     "text": [
      "0\n",
      "1662775232.5441444\n",
      "80.25834107398987\n"
     ]
    },
    {
     "name": "stderr",
     "output_type": "stream",
     "text": [
      "/tmp/ipykernel_6200/3326941065.py:20: FutureWarning: The frame.append method is deprecated and will be removed from pandas in a future version. Use pandas.concat instead.\n",
      "  df = df.append(data, sort=False).reset_index(drop=True)\n",
      "/tmp/ipykernel_6200/3326941065.py:20: FutureWarning: The frame.append method is deprecated and will be removed from pandas in a future version. Use pandas.concat instead.\n",
      "  df = df.append(data, sort=False).reset_index(drop=True)\n"
     ]
    }
   ],
   "source": [
    "i = 0\n",
    "while i < 748:\n",
    "    print(i)\n",
    "    start = time.time()\n",
    "    print(start)\n",
    "#     lst = u_lst[i:i+1000]\n",
    "    lst = u_lst\n",
    "    splits = np.array_split(lst, 2)\n",
    "    FILE_QUEUE = queue.Queue()\n",
    "    threads = []\n",
    "    for n in range(2):\n",
    "        t = threading.Thread(target = lambda q, arg1: q.put(get_contractor_list(arg1)), args = [FILE_QUEUE, splits[n]])\n",
    "        t.start()\n",
    "        threads.append(t)\n",
    "    for t in threads:\n",
    "        t.join()\n",
    "    df = pd.DataFrame()\n",
    "    while not FILE_QUEUE.empty():\n",
    "        data = FILE_QUEUE.get()\n",
    "        df = df.append(data, sort=False).reset_index(drop=True)\n",
    "    df.to_csv(\"/home/dangpdh/Downloads/contractor_info_\" + str(i) +\".csv\",)\n",
    "    end = time.time()\n",
    "    print(end - start)\n",
    "    i += 1000"
   ]
  },
  {
   "cell_type": "code",
   "execution_count": 34,
   "metadata": {},
   "outputs": [],
   "source": [
    "from webdriver_manager.chrome import ChromeDriverManager\n",
    "from webdriver_manager.core.utils import ChromeType\n",
    "from selenium.webdriver.chrome.service import Service as ChromeService\n",
    "from selenium_stealth import stealth"
   ]
  },
  {
   "cell_type": "code",
   "execution_count": 47,
   "metadata": {},
   "outputs": [
    {
     "name": "stdout",
     "output_type": "stream",
     "text": [
      "\n"
     ]
    },
    {
     "name": "stderr",
     "output_type": "stream",
     "text": [
      "[WDM] - ====== WebDriver manager ======\n"
     ]
    },
    {
     "name": "stdout",
     "output_type": "stream",
     "text": [
      "2022-09-15 01:46:41,502 INFO ====== WebDriver manager ======\n"
     ]
    },
    {
     "name": "stderr",
     "output_type": "stream",
     "text": [
      "[WDM] - Current chromium version is 105.0.5195\n"
     ]
    },
    {
     "name": "stdout",
     "output_type": "stream",
     "text": [
      "2022-09-15 01:46:42,164 INFO Current chromium version is 105.0.5195\n"
     ]
    },
    {
     "name": "stderr",
     "output_type": "stream",
     "text": [
      "[WDM] - Get LATEST chromedriver version for 105.0.5195 chromium\n"
     ]
    },
    {
     "name": "stdout",
     "output_type": "stream",
     "text": [
      "2022-09-15 01:46:42,165 INFO Get LATEST chromedriver version for 105.0.5195 chromium\n"
     ]
    },
    {
     "name": "stderr",
     "output_type": "stream",
     "text": [
      "[WDM] - Driver [/home/dangpdh/.wdm/drivers/chromedriver/linux64/105.0.5195.52/chromedriver] found in cache\n"
     ]
    },
    {
     "name": "stdout",
     "output_type": "stream",
     "text": [
      "2022-09-15 01:46:42,574 INFO Driver [/home/dangpdh/.wdm/drivers/chromedriver/linux64/105.0.5195.52/chromedriver] found in cache\n"
     ]
    },
    {
     "name": "stderr",
     "output_type": "stream",
     "text": [
      "/tmp/ipykernel_23537/4050824020.py:7: DeprecationWarning: executable_path has been deprecated, please pass in a Service object\n",
      "  driver = webdriver.Chrome(ChromeDriverManager(chrome_type=ChromeType.CHROMIUM).install(),chrome_options=options)\n",
      "/tmp/ipykernel_23537/4050824020.py:7: DeprecationWarning: use options instead of chrome_options\n",
      "  driver = webdriver.Chrome(ChromeDriverManager(chrome_type=ChromeType.CHROMIUM).install(),chrome_options=options)\n"
     ]
    }
   ],
   "source": [
    "options = webdriver.ChromeOptions()\n",
    "# options.add_argument('-headless')\n",
    "options.add_argument('-no-sandbox')\n",
    "options.add_argument('-disable-dev-shm-usage')\n",
    "options.add_argument('--disable-application-cache')\n",
    "options.add_argument(\"--remote-debugging-port=9222\")\n",
    "driver = webdriver.Chrome(ChromeDriverManager(chrome_type=ChromeType.CHROMIUM).install(),chrome_options=options)"
   ]
  },
  {
   "cell_type": "code",
   "execution_count": 48,
   "metadata": {},
   "outputs": [],
   "source": [
    "stealth(driver,\n",
    "        languages=[\"en-US\", \"en\"],\n",
    "        vendor=\"Google Inc.\",\n",
    "        platform=\"Win32\",\n",
    "        webgl_vendor=\"Intel Inc.\",\n",
    "        renderer=\"Intel Iris OpenGL Engine\",\n",
    "        fix_hairline=True,\n",
    "        )"
   ]
  },
  {
   "cell_type": "code",
   "execution_count": 49,
   "metadata": {},
   "outputs": [],
   "source": [
    "df = get_contractor_list_driver(driver,u_lst)"
   ]
  },
  {
   "cell_type": "code",
   "execution_count": 50,
   "metadata": {},
   "outputs": [
    {
     "data": {
      "text/html": [
       "<div>\n",
       "<style scoped>\n",
       "    .dataframe tbody tr th:only-of-type {\n",
       "        vertical-align: middle;\n",
       "    }\n",
       "\n",
       "    .dataframe tbody tr th {\n",
       "        vertical-align: top;\n",
       "    }\n",
       "\n",
       "    .dataframe thead th {\n",
       "        text-align: right;\n",
       "    }\n",
       "</style>\n",
       "<table border=\"1\" class=\"dataframe\">\n",
       "  <thead>\n",
       "    <tr style=\"text-align: right;\">\n",
       "      <th></th>\n",
       "      <th>Mã số thuế</th>\n",
       "      <th>Lượt xem</th>\n",
       "      <th>Tên công ty</th>\n",
       "      <th>Tên quốc tế</th>\n",
       "      <th>Địa chỉ trụ sở</th>\n",
       "      <th>Điện thoại công ty</th>\n",
       "      <th>Fax công ty</th>\n",
       "      <th>Website công ty</th>\n",
       "      <th>Lĩnh vực kinh doanh</th>\n",
       "      <th>Loại doanh nghiệp</th>\n",
       "      <th>Ngày thành lập công ty</th>\n",
       "      <th>Vốn điều lệ</th>\n",
       "      <th>Số nhân viên</th>\n",
       "      <th>Trạng thái công ty</th>\n",
       "      <th>Ngày phê duyệt trên mạng đấu thầu quốc gia</th>\n",
       "      <th>Trạng thái nộp phí</th>\n",
       "      <th>Cập nhật lần cuối</th>\n",
       "      <th>Địa chỉ giao dịch</th>\n",
       "    </tr>\n",
       "  </thead>\n",
       "  <tbody>\n",
       "    <tr>\n",
       "      <th>count</th>\n",
       "      <td>741</td>\n",
       "      <td>741</td>\n",
       "      <td>741</td>\n",
       "      <td>324</td>\n",
       "      <td>741</td>\n",
       "      <td>741</td>\n",
       "      <td>135</td>\n",
       "      <td>0</td>\n",
       "      <td>0</td>\n",
       "      <td>669</td>\n",
       "      <td>741</td>\n",
       "      <td>0</td>\n",
       "      <td>741</td>\n",
       "      <td>741</td>\n",
       "      <td>741</td>\n",
       "      <td>741</td>\n",
       "      <td>371</td>\n",
       "      <td>370</td>\n",
       "    </tr>\n",
       "    <tr>\n",
       "      <th>unique</th>\n",
       "      <td>741</td>\n",
       "      <td>275</td>\n",
       "      <td>741</td>\n",
       "      <td>324</td>\n",
       "      <td>740</td>\n",
       "      <td>740</td>\n",
       "      <td>134</td>\n",
       "      <td>0</td>\n",
       "      <td>0</td>\n",
       "      <td>5</td>\n",
       "      <td>680</td>\n",
       "      <td>0</td>\n",
       "      <td>85</td>\n",
       "      <td>1</td>\n",
       "      <td>531</td>\n",
       "      <td>17</td>\n",
       "      <td>367</td>\n",
       "      <td>369</td>\n",
       "    </tr>\n",
       "    <tr>\n",
       "      <th>top</th>\n",
       "      <td>1300997203</td>\n",
       "      <td>13</td>\n",
       "      <td>CÔNG TY TNHH MỘT THÀNH VIÊN THƯƠNG MẠI DỊCH VỤ...</td>\n",
       "      <td>NEW SOLUTION INVESTMENT CONSTRUCTION &amp; COMMERC...</td>\n",
       "      <td>Thôn 9, Xã Phùng Xá, Huyện Thạch Thất, Hà Nội</td>\n",
       "      <td>0553822730</td>\n",
       "      <td>02213</td>\n",
       "      <td>NaN</td>\n",
       "      <td>NaN</td>\n",
       "      <td>Công ty TNHH</td>\n",
       "      <td>18/03/2011</td>\n",
       "      <td>NaN</td>\n",
       "      <td>0</td>\n",
       "      <td>Đang hoạt động</td>\n",
       "      <td>04/08/2022</td>\n",
       "      <td>Đã nộp chi phí Hãy xác thực tài khoản trên Dau...</td>\n",
       "      <td>05:24 09/08/2022 - Cập nhật lần thứ 4. Vui lòn...</td>\n",
       "      <td>Thôn 9, Xã Phùng Xá, Huyện Thạch Thất, Thành p...</td>\n",
       "    </tr>\n",
       "    <tr>\n",
       "      <th>freq</th>\n",
       "      <td>1</td>\n",
       "      <td>14</td>\n",
       "      <td>1</td>\n",
       "      <td>1</td>\n",
       "      <td>2</td>\n",
       "      <td>2</td>\n",
       "      <td>2</td>\n",
       "      <td>NaN</td>\n",
       "      <td>NaN</td>\n",
       "      <td>398</td>\n",
       "      <td>4</td>\n",
       "      <td>NaN</td>\n",
       "      <td>246</td>\n",
       "      <td>741</td>\n",
       "      <td>6</td>\n",
       "      <td>472</td>\n",
       "      <td>2</td>\n",
       "      <td>2</td>\n",
       "    </tr>\n",
       "  </tbody>\n",
       "</table>\n",
       "</div>"
      ],
      "text/plain": [
       "0       Mã số thuế Lượt xem  \\\n",
       "count          741      741   \n",
       "unique         741      275   \n",
       "top     1300997203       13   \n",
       "freq             1       14   \n",
       "\n",
       "0                                             Tên công ty  \\\n",
       "count                                                 741   \n",
       "unique                                                741   \n",
       "top     CÔNG TY TNHH MỘT THÀNH VIÊN THƯƠNG MẠI DỊCH VỤ...   \n",
       "freq                                                    1   \n",
       "\n",
       "0                                             Tên quốc tế  \\\n",
       "count                                                 324   \n",
       "unique                                                324   \n",
       "top     NEW SOLUTION INVESTMENT CONSTRUCTION & COMMERC...   \n",
       "freq                                                    1   \n",
       "\n",
       "0                                      Địa chỉ trụ sở Điện thoại công ty  \\\n",
       "count                                             741                741   \n",
       "unique                                            740                740   \n",
       "top     Thôn 9, Xã Phùng Xá, Huyện Thạch Thất, Hà Nội         0553822730   \n",
       "freq                                                2                  2   \n",
       "\n",
       "0      Fax công ty Website công ty Lĩnh vực kinh doanh Loại doanh nghiệp  \\\n",
       "count          135               0                   0               669   \n",
       "unique         134               0                   0                 5   \n",
       "top          02213             NaN                 NaN      Công ty TNHH   \n",
       "freq             2             NaN                 NaN               398   \n",
       "\n",
       "0      Ngày thành lập công ty Vốn điều lệ Số nhân viên Trạng thái công ty  \\\n",
       "count                     741           0          741                741   \n",
       "unique                    680           0           85                  1   \n",
       "top                18/03/2011         NaN            0     Đang hoạt động   \n",
       "freq                        4         NaN          246                741   \n",
       "\n",
       "0      Ngày phê duyệt trên mạng đấu thầu quốc gia  \\\n",
       "count                                         741   \n",
       "unique                                        531   \n",
       "top                                    04/08/2022   \n",
       "freq                                            6   \n",
       "\n",
       "0                                      Trạng thái nộp phí  \\\n",
       "count                                                 741   \n",
       "unique                                                 17   \n",
       "top     Đã nộp chi phí Hãy xác thực tài khoản trên Dau...   \n",
       "freq                                                  472   \n",
       "\n",
       "0                                       Cập nhật lần cuối  \\\n",
       "count                                                 371   \n",
       "unique                                                367   \n",
       "top     05:24 09/08/2022 - Cập nhật lần thứ 4. Vui lòn...   \n",
       "freq                                                    2   \n",
       "\n",
       "0                                       Địa chỉ giao dịch  \n",
       "count                                                 370  \n",
       "unique                                                369  \n",
       "top     Thôn 9, Xã Phùng Xá, Huyện Thạch Thất, Thành p...  \n",
       "freq                                                    2  "
      ]
     },
     "execution_count": 50,
     "metadata": {},
     "output_type": "execute_result"
    }
   ],
   "source": [
    "df.describe()"
   ]
  },
  {
   "cell_type": "code",
   "execution_count": 51,
   "metadata": {},
   "outputs": [],
   "source": [
    "df.to_csv(\"/home/dangpdh/Downloads/contractor_info_test.csv\")"
   ]
  },
  {
   "cell_type": "code",
   "execution_count": 25,
   "metadata": {},
   "outputs": [
    {
     "data": {
      "text/plain": [
       "<Response [403]>"
      ]
     },
     "execution_count": 25,
     "metadata": {},
     "output_type": "execute_result"
    }
   ],
   "source": [
    "requests.get('https://dauthau.asia/businesslistings/search/?q=0941740708&industry1=&province=0&businesstype=0&lvkd=0')"
   ]
  }
 ],
 "metadata": {
  "kernelspec": {
   "display_name": "Python 3 (ipykernel)",
   "language": "python",
   "name": "python3"
  },
  "language_info": {
   "codemirror_mode": {
    "name": "ipython",
    "version": 3
   },
   "file_extension": ".py",
   "mimetype": "text/x-python",
   "name": "python",
   "nbconvert_exporter": "python",
   "pygments_lexer": "ipython3",
   "version": "3.9.12"
  }
 },
 "nbformat": 4,
 "nbformat_minor": 4
}
