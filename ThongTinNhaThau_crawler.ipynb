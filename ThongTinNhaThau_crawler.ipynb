{
 "cells": [
  {
   "cell_type": "code",
   "execution_count": 1,
   "metadata": {},
   "outputs": [],
   "source": [
    "import pandas as pd\n",
    "from selenium import webdriver\n",
    "from selenium.webdriver.common.keys import Keys\n",
    "from selenium.webdriver.common.by import By\n",
    "from selenium.webdriver.support.ui import WebDriverWait\n",
    "from selenium.webdriver.support.ui import Select\n",
    "from selenium.webdriver.support import expected_conditions as EC\n",
    "from selenium.webdriver.common.alert import Alert\n",
    "from bs4 import BeautifulSoup\n",
    "import requests, lxml\n",
    "from re import search\n",
    "from collections import Counter\n",
    "import numpy as np\n",
    "import threading \n",
    "import queue\n",
    "import time"
   ]
  },
  {
   "cell_type": "code",
   "execution_count": 2,
   "metadata": {},
   "outputs": [],
   "source": [
    "def get_driver():\n",
    "    options = webdriver.FirefoxOptions()\n",
    "    options.add_argument('-headless')\n",
    "    options.add_argument('-no-sandbox')\n",
    "    options.add_argument('-disable-dev-shm-usage')\n",
    "    options.add_argument('--disable-application-cache')\n",
    "    driver = webdriver.Firefox(options = options)\n",
    "    return driver"
   ]
  },
  {
   "cell_type": "code",
   "execution_count": 3,
   "metadata": {},
   "outputs": [],
   "source": [
    "def get_contractor(driver, taxid):\n",
    "    url = 'https://dauthau.asia/businesslistings/search/?q=' + taxid + '&industry1=&province=0&businesstype=0&lvkd=0'\n",
    "    driver.get(url)\n",
    "    html_source = driver.page_source\n",
    "    soup = BeautifulSoup(html_source, 'lxml')\n",
    "    link = soup.find('div', class_= 'listing-summary').a['href']\n",
    "    driver.get('https://dauthau.asia' + link)\n",
    "    html_source = driver.page_source\n",
    "    soup = BeautifulSoup(html_source, 'html.parser')\n",
    "    table = soup.find(\"table\")\n",
    "    df = pd.read_html(str(table), converters={'Mã số thuế': str, 'Điện thoại công ty': str})[0]\n",
    "    df = df.transpose()\n",
    "    df.columns = df.iloc[0]\n",
    "    df = df.iloc[1:2]\n",
    "    df = df.iloc[:,:17]\n",
    "    driver.delete_all_cookies()\n",
    "    return df\n"
   ]
  },
  {
   "cell_type": "code",
   "execution_count": 4,
   "metadata": {},
   "outputs": [],
   "source": [
    "def get_contractor_list_driver(driver, tax_id_lst):\n",
    "    df = get_contractor(driver, tax_id_lst[0])\n",
    "    for i in tax_id_lst:\n",
    "        if i != tax_id_lst[0]:\n",
    "            try:\n",
    "                df = pd.concat([df,get_contractor(driver, i)])\n",
    "            except:\n",
    "                continue\n",
    "        else:\n",
    "            pass\n",
    "    return df"
   ]
  },
  {
   "cell_type": "code",
   "execution_count": 5,
   "metadata": {},
   "outputs": [],
   "source": [
    "def get_contractor_list(tax_id_lst):\n",
    "    driver = get_driver()\n",
    "    df = get_contractor_list_driver(driver, tax_id_lst)\n",
    "    driver.close()\n",
    "    return df"
   ]
  },
  {
   "cell_type": "code",
   "execution_count": 6,
   "metadata": {},
   "outputs": [],
   "source": [
    "# input_file = pd.read_excel(\"/home/dangpdh/Downloads/dauthau.xlsx\", dtype = 'str')"
   ]
  },
  {
   "cell_type": "code",
   "execution_count": 6,
   "metadata": {},
   "outputs": [],
   "source": [
    "import psycopg2"
   ]
  },
  {
   "cell_type": "code",
   "execution_count": 7,
   "metadata": {},
   "outputs": [],
   "source": [
    "conn = psycopg2.connect(host=\"localhost\",database=\"postgres\", user=\"postgres\", password=\"dang1199\")"
   ]
  },
  {
   "cell_type": "code",
   "execution_count": 8,
   "metadata": {},
   "outputs": [],
   "source": [
    "sql = \"\"\"select distinct \"Mã số thuế\" from kq_dauthau_202207 kd \n",
    "        where \"Mã số thuế\" not in (select \"TAX_ID\" from contractor_info ci)\"\"\""
   ]
  },
  {
   "cell_type": "code",
   "execution_count": 9,
   "metadata": {},
   "outputs": [
    {
     "name": "stderr",
     "output_type": "stream",
     "text": [
      "/home/dangpdh/anaconda3/lib/python3.9/site-packages/pandas/io/sql.py:761: UserWarning: pandas only support SQLAlchemy connectable(engine/connection) ordatabase string URI or sqlite3 DBAPI2 connectionother DBAPI2 objects are not tested, please consider using SQLAlchemy\n",
      "  warnings.warn(\n"
     ]
    }
   ],
   "source": [
    "input_file = pd.read_sql(sql, conn)"
   ]
  },
  {
   "cell_type": "code",
   "execution_count": 10,
   "metadata": {},
   "outputs": [],
   "source": [
    "input_file = input_file.loc[input_file[\"Mã số thuế\"].str.len() >= 10]"
   ]
  },
  {
   "cell_type": "code",
   "execution_count": 11,
   "metadata": {},
   "outputs": [],
   "source": [
    "u_lst = list(set(input_file[\"Mã số thuế\"].tolist()))"
   ]
  },
  {
   "cell_type": "code",
   "execution_count": 12,
   "metadata": {},
   "outputs": [
    {
     "data": {
      "text/plain": [
       "1463"
      ]
     },
     "execution_count": 12,
     "metadata": {},
     "output_type": "execute_result"
    }
   ],
   "source": [
    "len(u_lst)"
   ]
  },
  {
   "cell_type": "code",
   "execution_count": 13,
   "metadata": {
    "scrolled": true
   },
   "outputs": [
    {
     "name": "stdout",
     "output_type": "stream",
     "text": [
      "0\n",
      "1660574623.84682\n"
     ]
    },
    {
     "name": "stderr",
     "output_type": "stream",
     "text": [
      "/tmp/ipykernel_8204/3599883610.py:20: FutureWarning: The frame.append method is deprecated and will be removed from pandas in a future version. Use pandas.concat instead.\n",
      "  df = df.append(data, sort=False).reset_index(drop=True)\n",
      "/tmp/ipykernel_8204/3599883610.py:20: FutureWarning: The frame.append method is deprecated and will be removed from pandas in a future version. Use pandas.concat instead.\n",
      "  df = df.append(data, sort=False).reset_index(drop=True)\n"
     ]
    },
    {
     "name": "stdout",
     "output_type": "stream",
     "text": [
      "2720.043676137924\n",
      "1000\n",
      "1660577343.890575\n"
     ]
    },
    {
     "name": "stderr",
     "output_type": "stream",
     "text": [
      "Exception in thread Thread-8:\n",
      "Traceback (most recent call last):\n",
      "  File \"/home/dangpdh/anaconda3/lib/python3.9/site-packages/urllib3/connection.py\", line 174, in _new_conn\n",
      "    conn = connection.create_connection(\n",
      "  File \"/home/dangpdh/anaconda3/lib/python3.9/site-packages/urllib3/util/connection.py\", line 95, in create_connection\n",
      "    raise err\n",
      "  File \"/home/dangpdh/anaconda3/lib/python3.9/site-packages/urllib3/util/connection.py\", line 85, in create_connection\n",
      "    sock.connect(sa)\n",
      "ConnectionRefusedError: [Errno 111] Connection refused\n",
      "\n",
      "During handling of the above exception, another exception occurred:\n",
      "\n",
      "Traceback (most recent call last):\n",
      "  File \"/home/dangpdh/anaconda3/lib/python3.9/site-packages/urllib3/connectionpool.py\", line 703, in urlopen\n",
      "    httplib_response = self._make_request(\n",
      "  File \"/home/dangpdh/anaconda3/lib/python3.9/site-packages/urllib3/connectionpool.py\", line 398, in _make_request\n",
      "    conn.request(method, url, **httplib_request_kw)\n",
      "  File \"/home/dangpdh/anaconda3/lib/python3.9/site-packages/urllib3/connection.py\", line 239, in request\n",
      "    super(HTTPConnection, self).request(method, url, body=body, headers=headers)\n",
      "  File \"/home/dangpdh/anaconda3/lib/python3.9/http/client.py\", line 1285, in request\n",
      "    self._send_request(method, url, body, headers, encode_chunked)\n",
      "  File \"/home/dangpdh/anaconda3/lib/python3.9/http/client.py\", line 1331, in _send_request\n",
      "    self.endheaders(body, encode_chunked=encode_chunked)\n",
      "  File \"/home/dangpdh/anaconda3/lib/python3.9/http/client.py\", line 1280, in endheaders\n",
      "    self._send_output(message_body, encode_chunked=encode_chunked)\n",
      "  File \"/home/dangpdh/anaconda3/lib/python3.9/http/client.py\", line 1040, in _send_output\n",
      "    self.send(msg)\n",
      "  File \"/home/dangpdh/anaconda3/lib/python3.9/http/client.py\", line 980, in send\n",
      "    self.connect()\n",
      "  File \"/home/dangpdh/anaconda3/lib/python3.9/site-packages/urllib3/connection.py\", line 205, in connect\n",
      "    conn = self._new_conn()\n",
      "  File \"/home/dangpdh/anaconda3/lib/python3.9/site-packages/urllib3/connection.py\", line 186, in _new_conn\n",
      "    raise NewConnectionError(\n",
      "urllib3.exceptions.NewConnectionError: <urllib3.connection.HTTPConnection object at 0x7f1fae3037f0>: Failed to establish a new connection: [Errno 111] Connection refused\n",
      "\n",
      "During handling of the above exception, another exception occurred:\n",
      "\n",
      "Traceback (most recent call last):\n",
      "  File \"/home/dangpdh/anaconda3/lib/python3.9/threading.py\", line 973, in _bootstrap_inner\n",
      "    self.run()\n",
      "  File \"/home/dangpdh/anaconda3/lib/python3.9/threading.py\", line 910, in run\n",
      "    self._target(*self._args, **self._kwargs)\n",
      "  File \"/tmp/ipykernel_8204/3599883610.py\", line 12, in <lambda>\n",
      "  File \"/tmp/ipykernel_8204/1563180790.py\", line 4, in get_contractor_list\n",
      "  File \"/home/dangpdh/anaconda3/lib/python3.9/site-packages/selenium/webdriver/remote/webdriver.py\", line 552, in close\n",
      "    self.execute(Command.CLOSE)\n",
      "  File \"/home/dangpdh/anaconda3/lib/python3.9/site-packages/selenium/webdriver/remote/webdriver.py\", line 433, in execute\n",
      "    response = self.command_executor.execute(driver_command, params)\n",
      "  File \"/home/dangpdh/anaconda3/lib/python3.9/site-packages/selenium/webdriver/remote/remote_connection.py\", line 344, in execute\n",
      "    return self._request(command_info[0], url, body=data)\n",
      "  File \"/home/dangpdh/anaconda3/lib/python3.9/site-packages/selenium/webdriver/remote/remote_connection.py\", line 366, in _request\n",
      "    response = self._conn.request(method, url, body=body, headers=headers)\n",
      "  File \"/home/dangpdh/anaconda3/lib/python3.9/site-packages/urllib3/request.py\", line 74, in request\n",
      "    return self.request_encode_url(\n",
      "  File \"/home/dangpdh/anaconda3/lib/python3.9/site-packages/urllib3/request.py\", line 96, in request_encode_url\n"
     ]
    },
    {
     "ename": "KeyboardInterrupt",
     "evalue": "",
     "output_type": "error",
     "traceback": [
      "\u001b[0;31m---------------------------------------------------------------------------\u001b[0m",
      "\u001b[0;31mKeyboardInterrupt\u001b[0m                         Traceback (most recent call last)",
      "Input \u001b[0;32mIn [13]\u001b[0m, in \u001b[0;36m<cell line: 2>\u001b[0;34m()\u001b[0m\n\u001b[1;32m     14\u001b[0m     threads\u001b[38;5;241m.\u001b[39mappend(t)\n\u001b[1;32m     15\u001b[0m \u001b[38;5;28;01mfor\u001b[39;00m t \u001b[38;5;129;01min\u001b[39;00m threads:\n\u001b[0;32m---> 16\u001b[0m     \u001b[43mt\u001b[49m\u001b[38;5;241;43m.\u001b[39;49m\u001b[43mjoin\u001b[49m\u001b[43m(\u001b[49m\u001b[43m)\u001b[49m\n\u001b[1;32m     17\u001b[0m df \u001b[38;5;241m=\u001b[39m pd\u001b[38;5;241m.\u001b[39mDataFrame()\n\u001b[1;32m     18\u001b[0m \u001b[38;5;28;01mwhile\u001b[39;00m \u001b[38;5;129;01mnot\u001b[39;00m FILE_QUEUE\u001b[38;5;241m.\u001b[39mempty():\n",
      "File \u001b[0;32m~/anaconda3/lib/python3.9/threading.py:1053\u001b[0m, in \u001b[0;36mThread.join\u001b[0;34m(self, timeout)\u001b[0m\n\u001b[1;32m   1050\u001b[0m     \u001b[38;5;28;01mraise\u001b[39;00m \u001b[38;5;167;01mRuntimeError\u001b[39;00m(\u001b[38;5;124m\"\u001b[39m\u001b[38;5;124mcannot join current thread\u001b[39m\u001b[38;5;124m\"\u001b[39m)\n\u001b[1;32m   1052\u001b[0m \u001b[38;5;28;01mif\u001b[39;00m timeout \u001b[38;5;129;01mis\u001b[39;00m \u001b[38;5;28;01mNone\u001b[39;00m:\n\u001b[0;32m-> 1053\u001b[0m     \u001b[38;5;28;43mself\u001b[39;49m\u001b[38;5;241;43m.\u001b[39;49m\u001b[43m_wait_for_tstate_lock\u001b[49m\u001b[43m(\u001b[49m\u001b[43m)\u001b[49m\n\u001b[1;32m   1054\u001b[0m \u001b[38;5;28;01melse\u001b[39;00m:\n\u001b[1;32m   1055\u001b[0m     \u001b[38;5;66;03m# the behavior of a negative timeout isn't documented, but\u001b[39;00m\n\u001b[1;32m   1056\u001b[0m     \u001b[38;5;66;03m# historically .join(timeout=x) for x<0 has acted as if timeout=0\u001b[39;00m\n\u001b[1;32m   1057\u001b[0m     \u001b[38;5;28mself\u001b[39m\u001b[38;5;241m.\u001b[39m_wait_for_tstate_lock(timeout\u001b[38;5;241m=\u001b[39m\u001b[38;5;28mmax\u001b[39m(timeout, \u001b[38;5;241m0\u001b[39m))\n",
      "File \u001b[0;32m~/anaconda3/lib/python3.9/threading.py:1073\u001b[0m, in \u001b[0;36mThread._wait_for_tstate_lock\u001b[0;34m(self, block, timeout)\u001b[0m\n\u001b[1;32m   1070\u001b[0m     \u001b[38;5;28;01mreturn\u001b[39;00m\n\u001b[1;32m   1072\u001b[0m \u001b[38;5;28;01mtry\u001b[39;00m:\n\u001b[0;32m-> 1073\u001b[0m     \u001b[38;5;28;01mif\u001b[39;00m \u001b[43mlock\u001b[49m\u001b[38;5;241;43m.\u001b[39;49m\u001b[43macquire\u001b[49m\u001b[43m(\u001b[49m\u001b[43mblock\u001b[49m\u001b[43m,\u001b[49m\u001b[43m \u001b[49m\u001b[43mtimeout\u001b[49m\u001b[43m)\u001b[49m:\n\u001b[1;32m   1074\u001b[0m         lock\u001b[38;5;241m.\u001b[39mrelease()\n\u001b[1;32m   1075\u001b[0m         \u001b[38;5;28mself\u001b[39m\u001b[38;5;241m.\u001b[39m_stop()\n",
      "\u001b[0;31mKeyboardInterrupt\u001b[0m: "
     ]
    },
    {
     "name": "stderr",
     "output_type": "stream",
     "text": [
      "    return self.urlopen(method, url, **extra_kw)\n",
      "  File \"/home/dangpdh/anaconda3/lib/python3.9/site-packages/urllib3/poolmanager.py\", line 376, in urlopen\n",
      "    response = conn.urlopen(method, u.request_uri, **kw)\n",
      "  File \"/home/dangpdh/anaconda3/lib/python3.9/site-packages/urllib3/connectionpool.py\", line 813, in urlopen\n",
      "    return self.urlopen(\n",
      "  File \"/home/dangpdh/anaconda3/lib/python3.9/site-packages/urllib3/connectionpool.py\", line 813, in urlopen\n",
      "    return self.urlopen(\n",
      "  File \"/home/dangpdh/anaconda3/lib/python3.9/site-packages/urllib3/connectionpool.py\", line 813, in urlopen\n",
      "    return self.urlopen(\n",
      "  File \"/home/dangpdh/anaconda3/lib/python3.9/site-packages/urllib3/connectionpool.py\", line 785, in urlopen\n",
      "    retries = retries.increment(\n",
      "  File \"/home/dangpdh/anaconda3/lib/python3.9/site-packages/urllib3/util/retry.py\", line 592, in increment\n",
      "    raise MaxRetryError(_pool, url, error or ResponseError(cause))\n",
      "urllib3.exceptions.MaxRetryError: HTTPConnectionPool(host='localhost', port=55331): Max retries exceeded with url: /session/b2ca2359-6473-4e76-b69f-d71cdf2ebe98/window (Caused by NewConnectionError('<urllib3.connection.HTTPConnection object at 0x7f1fae3037f0>: Failed to establish a new connection: [Errno 111] Connection refused'))\n"
     ]
    }
   ],
   "source": [
    "i = 0\n",
    "while i < 1463:\n",
    "    print(i)\n",
    "    start = time.time()\n",
    "    print(start)\n",
    "#     lst = u_lst[i:i+1000]\n",
    "    lst = u_lst\n",
    "    splits = np.array_split(lst, 2)\n",
    "    FILE_QUEUE = queue.Queue()\n",
    "    threads = []\n",
    "    for n in range(2):\n",
    "        t = threading.Thread(target = lambda q, arg1: q.put(get_contractor_list(arg1)), args = [FILE_QUEUE, splits[n]])\n",
    "        t.start()\n",
    "        threads.append(t)\n",
    "    for t in threads:\n",
    "        t.join()\n",
    "    df = pd.DataFrame()\n",
    "    while not FILE_QUEUE.empty():\n",
    "        data = FILE_QUEUE.get()\n",
    "        df = df.append(data, sort=False).reset_index(drop=True)\n",
    "    df.to_csv(\"/home/dangpdh/Downloads/contractor_info_\" + str(i) +\".csv\",)\n",
    "    end = time.time()\n",
    "    print(end - start)\n",
    "    i += 1000"
   ]
  },
  {
   "cell_type": "code",
   "execution_count": 33,
   "metadata": {},
   "outputs": [
    {
     "name": "stdout",
     "output_type": "stream",
     "text": [
      "<class 'pandas.core.frame.DataFrame'>\n",
      "RangeIndex: 120 entries, 0 to 119\n",
      "Data columns (total 18 columns):\n",
      " #   Column                                      Non-Null Count  Dtype \n",
      "---  ------                                      --------------  ----- \n",
      " 0   Mã số thuế                                  120 non-null    object\n",
      " 1   Lượt xem                                    120 non-null    object\n",
      " 2   Tên công ty                                 120 non-null    object\n",
      " 3   Tên quốc tế                                 52 non-null     object\n",
      " 4   Địa chỉ trụ sở                              120 non-null    object\n",
      " 5   Điện thoại công ty                          120 non-null    object\n",
      " 6   Fax công ty                                 34 non-null     object\n",
      " 7   Website công ty                             0 non-null      object\n",
      " 8   Lĩnh vực kinh doanh                         0 non-null      object\n",
      " 9   Loại doanh nghiệp                           111 non-null    object\n",
      " 10  Ngày thành lập công ty                      120 non-null    object\n",
      " 11  Vốn điều lệ                                 0 non-null      object\n",
      " 12  Số nhân viên                                120 non-null    object\n",
      " 13  Trạng thái công ty                          120 non-null    object\n",
      " 14  Ngày phê duyệt trên mạng đấu thầu quốc gia  120 non-null    object\n",
      " 15  Trạng thái nộp phí                          120 non-null    object\n",
      " 16  Cập nhật lần cuối                           89 non-null     object\n",
      " 17  Địa chỉ giao dịch                           31 non-null     object\n",
      "dtypes: object(18)\n",
      "memory usage: 17.0+ KB\n"
     ]
    }
   ],
   "source": [
    "df.info()"
   ]
  },
  {
   "cell_type": "code",
   "execution_count": 24,
   "metadata": {},
   "outputs": [],
   "source": [
    "df.to_csv(\"/home/dangpdh/Downloads/contractor_info.csv\")"
   ]
  },
  {
   "cell_type": "code",
   "execution_count": 25,
   "metadata": {},
   "outputs": [
    {
     "data": {
      "text/plain": [
       "<Response [403]>"
      ]
     },
     "execution_count": 25,
     "metadata": {},
     "output_type": "execute_result"
    }
   ],
   "source": [
    "requests.get('https://dauthau.asia/businesslistings/search/?q=0941740708&industry1=&province=0&businesstype=0&lvkd=0')"
   ]
  }
 ],
 "metadata": {
  "kernelspec": {
   "display_name": "Python 3 (ipykernel)",
   "language": "python",
   "name": "python3"
  },
  "language_info": {
   "codemirror_mode": {
    "name": "ipython",
    "version": 3
   },
   "file_extension": ".py",
   "mimetype": "text/x-python",
   "name": "python",
   "nbconvert_exporter": "python",
   "pygments_lexer": "ipython3",
   "version": "3.9.12"
  }
 },
 "nbformat": 4,
 "nbformat_minor": 4
}
